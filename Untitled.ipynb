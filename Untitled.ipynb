{
 "cells": [
  {
   "cell_type": "markdown",
   "id": "dc7d31bb-c947-49e5-aa14-ad79c940a8b0",
   "metadata": {},
   "source": [
    "Q1) Write a program to display a user entered name followed by Good Afternoon using input() function."
   ]
  },
  {
   "cell_type": "code",
   "execution_count": 1,
   "id": "1922281d-7c59-4384-b977-e57ce8c0131d",
   "metadata": {},
   "outputs": [
    {
     "name": "stdin",
     "output_type": "stream",
     "text": [
      "Enter Your Name :  Abdul Kalam\n"
     ]
    },
    {
     "name": "stdout",
     "output_type": "stream",
     "text": [
      "Good Afternoon:  Abdul Kalam\n"
     ]
    }
   ],
   "source": [
    "name = input(\"Enter Your Name : \")\n",
    "print(\"Good Afternoon: \" , name)"
   ]
  },
  {
   "cell_type": "markdown",
   "id": "72a965ff-9dc5-4d4f-8158-a5f1fe00b87a",
   "metadata": {},
   "source": [
    "Q2) Write a program to fill a letter template given below with name and date."
   ]
  },
  {
   "cell_type": "code",
   "execution_count": null,
   "id": "9872770c-30f3-435f-9b6a-cbf4003be18e",
   "metadata": {},
   "outputs": [
    {
     "name": "stdin",
     "output_type": "stream",
     "text": [
      "Enter name :-  Abdul Kalam\n"
     ]
    }
   ],
   "source": [
    "letter = ''' Dear 098\n",
    "You are selected for football tournament which will be held on \n",
    "<DATE>'''\n",
    "name = input(\"Enter name :- \")\n",
    "date = input(\"Enter date :- \")\n",
    "letter = letter.replace(\"098\" , name )\n",
    "letter = letter.replace(\"<DATE>\" , date )\n",
    "print(letter)"
   ]
  },
  {
   "cell_type": "markdown",
   "id": "c68bf83f-ed27-48a9-a2ad-8d95ba6a57c9",
   "metadata": {},
   "source": [
    "Q3) Write a program to detect double space in a string."
   ]
  },
  {
   "cell_type": "code",
   "execution_count": 2,
   "id": "d1c73e4d-c471-4ff6-a7e8-938b4e370dfa",
   "metadata": {},
   "outputs": [
    {
     "name": "stdout",
     "output_type": "stream",
     "text": [
      "16\n"
     ]
    }
   ],
   "source": [
    "st = \"My Name is Abdul   Kalam\"\n",
    "doublespace = st.find(\"   \")\n",
    "print(doublespace)"
   ]
  },
  {
   "cell_type": "markdown",
   "id": "4db39a98-6647-4a25-ace2-1b3407af54b0",
   "metadata": {},
   "source": [
    "Q4) Replace the double space from question 3 with single space"
   ]
  },
  {
   "cell_type": "code",
   "execution_count": 3,
   "id": "73ede099-33e2-4511-b07c-53c3b2ce3707",
   "metadata": {},
   "outputs": [
    {
     "name": "stdout",
     "output_type": "stream",
     "text": [
      "My Name is Abdul Kalam\n"
     ]
    }
   ],
   "source": [
    "st = \"My Name is Abdul   Kalam\"\n",
    "st = st.replace(\"   \" , \" \")\n",
    "print(st)"
   ]
  },
  {
   "cell_type": "markdown",
   "id": "327f59a8-2bce-4522-b676-a5ce0f4eb42b",
   "metadata": {},
   "source": [
    "Q5) Find the lenght of a string"
   ]
  },
  {
   "cell_type": "code",
   "execution_count": 4,
   "id": "9f8c9287-481c-4799-9bef-41b23f323255",
   "metadata": {},
   "outputs": [
    {
     "name": "stdout",
     "output_type": "stream",
     "text": [
      "17\n"
     ]
    }
   ],
   "source": [
    "story = \"I live in Lucknow\"\n",
    "print(len(story))"
   ]
  }
 ],
 "metadata": {
  "kernelspec": {
   "display_name": "Python 3 (ipykernel)",
   "language": "python",
   "name": "python3"
  },
  "language_info": {
   "codemirror_mode": {
    "name": "ipython",
    "version": 3
   },
   "file_extension": ".py",
   "mimetype": "text/x-python",
   "name": "python",
   "nbconvert_exporter": "python",
   "pygments_lexer": "ipython3",
   "version": "3.10.8"
  }
 },
 "nbformat": 4,
 "nbformat_minor": 5
}
